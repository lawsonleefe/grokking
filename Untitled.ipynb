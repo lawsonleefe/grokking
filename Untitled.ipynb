{
 "cells": [
  {
   "cell_type": "markdown",
   "metadata": {},
   "source": [
    "## Binary Search\n",
    "\n",
    "Logarithmic functions are worked out as x = log(a)b where b equals a^x\n",
    "i.e 2^5 = 32 ---> 5 = log(2)32\n",
    "\n",
    "Working this out on the calculator, log(a)b can be worked out as log(b) / log(a).\n",
    "Checking this, we raise a to the power of the answer and ensure it equals b\n",
    "\n",
    "The list above is 5 long so maximum steps are log(2)5 ---> log(5) / log(2) = 2.32\n",
    "\n",
    "If there were 128 items in the list, there would be log(128) / log(2) maximum steps ---> 7 steps\n",
    "Doubling this to 256 items, there would be log(128) / log(2) maximum steps ---> 8 steps."
   ]
  },
  {
   "cell_type": "code",
   "execution_count": 23,
   "metadata": {},
   "outputs": [],
   "source": [
    "def binary_search(my_list, item):\n",
    "    low = 0\n",
    "    high = len(my_list)-1\n",
    "    \n",
    "    while low <= high:\n",
    "        mid = (low + high) // 2\n",
    "        guess = my_list[mid]\n",
    "        if guess == item:\n",
    "            return mid\n",
    "        if guess > item:\n",
    "            high = mid-1\n",
    "        else:\n",
    "            low = mid+1\n",
    "    return None"
   ]
  },
  {
   "cell_type": "code",
   "execution_count": 25,
   "metadata": {},
   "outputs": [
    {
     "name": "stdout",
     "output_type": "stream",
     "text": [
      "0 4\n",
      "0 1\n",
      "1 1\n",
      "1\n"
     ]
    }
   ],
   "source": [
    "my_list = [1, 3, 5, 7, 9]\n",
    "print(binary_search(my_list, 3))"
   ]
  }
 ],
 "metadata": {
  "kernelspec": {
   "display_name": "Python 3",
   "language": "python",
   "name": "python3"
  },
  "language_info": {
   "codemirror_mode": {
    "name": "ipython",
    "version": 3
   },
   "file_extension": ".py",
   "mimetype": "text/x-python",
   "name": "python",
   "nbconvert_exporter": "python",
   "pygments_lexer": "ipython3",
   "version": "3.7.4"
  }
 },
 "nbformat": 4,
 "nbformat_minor": 2
}
