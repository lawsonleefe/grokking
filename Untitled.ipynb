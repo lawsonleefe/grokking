{
 "cells": [
  {
   "cell_type": "markdown",
   "metadata": {},
   "source": [
    "# Greedy Algorithms\n",
    "At each step, pick the optimal move avaialble (the locally optimal solution). At the end, we should have the 'globally' optimal solution.\n",
    "\n",
    "They don't always work however and provide the perfect solution. That said, 'perfect' can be the enemy of 'good'. Greedy algorithms are simple and give a good enough answer in most cases \n",
    "##### <br />\n",
    "##### Quicksort\n",
    "Not greedy\n",
    "\n",
    "##### Breadth-first\n",
    "Not greedy\n",
    "\n",
    "##### Dijkstra's\n",
    "Greedy"
   ]
  },
  {
   "cell_type": "markdown",
   "metadata": {},
   "source": [
    "### Set-covering problem\n",
    "\n",
    "\n",
    "Suppose we wanted to find all combinations of radio stations which cover all of the UK. Some radio stations will cover the same / similar areas and effectively overlap a little bit.\n",
    "\n",
    "We'd have to produce a list of all possible subsets and pick the one that covers all areas with the smallest number of stations.\n",
    "This list of all possible combinations is a 'power set' and contains  2^n possible subsets ---> i.e\n",
    "\n",
    "Stations = {BBC1, 6MUSIC, XFM}\n",
    "Power_set = {0, {BBC1}, {6MUSIC}, {XFM}, {BBC1, 6MUSIC}, {BBC1, XFM}, {6MUSIC, XFM}, {BBC1, 6MUSIC, XFM}}\n",
    "\n",
    "Calculating this will take O(2^n) time. \n",
    "\n",
    "Assuming we can perform 10 operations per second, a set with just 40 stations in it will take 2^40 / 10 seconds to complete. Put another way, 209,766 years!\n",
    "\n",
    "#### We need a faster way of solving this!"
   ]
  },
  {
   "cell_type": "markdown",
   "metadata": {},
   "source": [
    "### Approximation Algorithms\n",
    "\n",
    "For the set-covering problem, we could instead find the set which contains stations covering the largest number of regions that haven't yet been covered and repeat until all regions are covered.\n",
    "\n",
    "This algorithm will run in O(n^2) time. The same 40 station set can now be covered in 40^2 /10 -----> 2.67 minutes!"
   ]
  },
  {
   "cell_type": "code",
   "execution_count": 41,
   "metadata": {},
   "outputs": [],
   "source": [
    "regions = set([\"NW\", \"NE\", \"YORKS\", \"MID\", \"LDN\", \"NI\", \"SCT\", \"WLS\", \"SE\", \"SW\"])\n",
    "\n",
    "stations = {}\n",
    "stations[\"XFM\"] = set([\"NW\", \"LDN\", \"SCT\"])\n",
    "stations[\"6MUSIC\"] = set([\"NW\", \"NE\", \"YORKS\", \"MID\", \"LDN\", \"NI\", \"SE\"])\n",
    "stations[\"BBC1\"] = set([\"NI\", \"WLS\", \"SW\", \"NW\", \"LDN\", \"SCT\"])"
   ]
  },
  {
   "cell_type": "code",
   "execution_count": 42,
   "metadata": {},
   "outputs": [],
   "source": [
    "def approx_set_cover(stations, regions):\n",
    "    final_stations = set()\n",
    "    \n",
    "    while regions:\n",
    "        best_station = None\n",
    "        regions_covered = set()\n",
    "\n",
    "        for station, region_stations in stations.items():\n",
    "            covered = regions & region_stations # here we have a set intersection ----> checks which items appear in both sets.\n",
    "            if len(covered) > len(regions_covered):\n",
    "                best_station = station\n",
    "                regions_covered = covered\n",
    "        regions -= regions_covered\n",
    "        final_stations.add(best_station)\n",
    "    return final_stations"
   ]
  },
  {
   "cell_type": "code",
   "execution_count": 43,
   "metadata": {},
   "outputs": [
    {
     "data": {
      "text/plain": [
       "{'6MUSIC', 'BBC1'}"
      ]
     },
     "execution_count": 43,
     "metadata": {},
     "output_type": "execute_result"
    }
   ],
   "source": [
    "approx_set_cover(stations, regions)"
   ]
  },
  {
   "cell_type": "markdown",
   "metadata": {},
   "source": [
    "### Travelling Salesperson - Approximation\n",
    "\n",
    "Ordinarily, this is a factorial function O(n!) so grows massively as new items are added.\n",
    "Looking at all possible routes between cities, we have the following:\n",
    "\n",
    "    1 city --> N/A\n",
    "    2 cities, each with 1 route = 2 routes\n",
    "    3 cities, each with 2 routes = 6 routes\n",
    "    4 cities, each with 6 routes = 24 routes.\n",
    "    5 cities ------> 120\n",
    "    \n",
    "etc..\n",
    "\n",
    "At 15 cities there are 1,307,674,368,000 routes to check! This is because we're computing 15! (factorial) or \n",
    "    \n",
    "    15 * 14 * 13 * 12 * 11 * 10 * 9 * 8 * 7 * 6 * 5 * 4 * 3 * 2 * 1"
   ]
  },
  {
   "cell_type": "code",
   "execution_count": 56,
   "metadata": {},
   "outputs": [
    {
     "name": "stdout",
     "output_type": "stream",
     "text": [
      "['SWN', 'LDN'] 220\n"
     ]
    }
   ],
   "source": [
    "graph = {}\n",
    "graph['MCR'] = {}\n",
    "graph['LDN'] = {}\n",
    "graph['SWN'] = {}\n",
    "\n",
    "graph['MCR']['LDN'] = 200\n",
    "graph['MCR']['SWN'] = 120\n",
    "\n",
    "graph['SWN']['LDN'] = 100\n",
    "\n",
    "regions = set(['MCR', 'LDN', 'SWN'])\n",
    "\n",
    "def approx_salesman(graph, regions, start):\n",
    "    '''\n",
    "    1. From given starting position, find nearest next city along which hasn't been covered yet\n",
    "    2. Repeat\n",
    "    '''\n",
    "    covered = []\n",
    "    best_route = []\n",
    "    total_distance = 0\n",
    "    for region, connections in graph.items():\n",
    "        if connections:\n",
    "            shortest_distance = float('inf')\n",
    "            best_city = None\n",
    "            for k,v in connections.items():\n",
    "                covered.append(k)\n",
    "                if v < shortest_distance:\n",
    "                    shortest_distance = v\n",
    "                    best_city = k\n",
    "            best_route.append(best_city)\n",
    "            total_distance += shortest_distance\n",
    "    \n",
    "    print(best_route, total_distance)\n",
    "    \n",
    "approx_salesman(graph, regions, 'MCR')"
   ]
  },
  {
   "cell_type": "markdown",
   "metadata": {},
   "source": [
    "### NP Completeness\n",
    "\n",
    "It's useful to be able to identify if a problem is NP Complete or not early on. If they are, it will likely be the case that for all but very small graphs / lists, they'll be too difficult to solve quickly. As a result, we probably want to approximate a solution with a greedy algorithm.\n",
    "\n",
    "How can you tell?\n",
    "\n",
    "    • Algorithm runs quickly on small item problems but takes forever as the list of items grows\n",
    "    • Anything that involves having to look at all combinations of 'x'\n",
    "    • Do we have to calculate every possible version of x? Can it not be broken down into smaller chunks? Might be NP-complete\n",
    "    • If the problem involves a 'travelling salesman' like sequence, might be NP-complete\n",
    "    • If it involves overlapping sets, could be like the set-covering problem and NP-complete\n",
    "    • If it can be restated as either the set-covering or travelling salesman problem, it is definitely NP-complete\n",
    "  "
   ]
  },
  {
   "cell_type": "code",
   "execution_count": null,
   "metadata": {},
   "outputs": [],
   "source": []
  }
 ],
 "metadata": {
  "kernelspec": {
   "display_name": "Python 3",
   "language": "python",
   "name": "python3"
  },
  "language_info": {
   "codemirror_mode": {
    "name": "ipython",
    "version": 3
   },
   "file_extension": ".py",
   "mimetype": "text/x-python",
   "name": "python",
   "nbconvert_exporter": "python",
   "pygments_lexer": "ipython3",
   "version": "3.7.4"
  }
 },
 "nbformat": 4,
 "nbformat_minor": 2
}
