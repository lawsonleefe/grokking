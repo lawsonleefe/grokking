{
 "cells": [
  {
   "cell_type": "markdown",
   "metadata": {},
   "source": [
    "# Quicksort & Recursion\n",
    "\n",
    "#### Printing value of each element in an array\n",
    "O(n)\n",
    "#### Doubling the value of each element in an array\n",
    "O(n)\n",
    "#### Double the value of the first element in an array\n",
    "O(1)\n",
    "#### Creating a multiplication table with all the elements in the array. I.e ---> array is [2,3,7,8,10], multiple every element by 2, then 3, then 7 and so on.\n",
    "O(n^2)"
   ]
  },
  {
   "cell_type": "code",
   "execution_count": 1,
   "metadata": {},
   "outputs": [],
   "source": [
    "def sum(arr):\n",
    "    '''\n",
    "    Non recursive function\n",
    "    '''\n",
    "    total = 0\n",
    "    for x in arr:\n",
    "        total += x\n",
    "    return total"
   ]
  },
  {
   "cell_type": "code",
   "execution_count": 2,
   "metadata": {},
   "outputs": [
    {
     "name": "stdout",
     "output_type": "stream",
     "text": [
      "498 ns ± 102 ns per loop (mean ± std. dev. of 7 runs, 1000000 loops each)\n"
     ]
    }
   ],
   "source": [
    "%timeit sum([1,4,6,8,9])"
   ]
  },
  {
   "cell_type": "code",
   "execution_count": 3,
   "metadata": {},
   "outputs": [],
   "source": [
    "def recursive_sum(arr):\n",
    "    if arr == []:\n",
    "        return 0\n",
    "    return arr[0] + recursive_sum(arr[1:])"
   ]
  },
  {
   "cell_type": "code",
   "execution_count": 4,
   "metadata": {},
   "outputs": [
    {
     "name": "stdout",
     "output_type": "stream",
     "text": [
      "2.49 µs ± 1.16 µs per loop (mean ± std. dev. of 7 runs, 100000 loops each)\n"
     ]
    }
   ],
   "source": [
    "%timeit recursive_sum([1,4,6,8,9])"
   ]
  },
  {
   "cell_type": "code",
   "execution_count": 5,
   "metadata": {},
   "outputs": [],
   "source": [
    "def recursive_count(arr):\n",
    "    '''\n",
    "    counts the number of items in a list\n",
    "    '''\n",
    "    if arr == []:\n",
    "        return 0\n",
    "    return 1 + recursive_count(arr[1:])"
   ]
  },
  {
   "cell_type": "code",
   "execution_count": 6,
   "metadata": {},
   "outputs": [
    {
     "data": {
      "text/plain": [
       "5"
      ]
     },
     "execution_count": 6,
     "metadata": {},
     "output_type": "execute_result"
    }
   ],
   "source": [
    "recursive_count([1,4,6,8,9])"
   ]
  },
  {
   "cell_type": "code",
   "execution_count": 7,
   "metadata": {},
   "outputs": [],
   "source": [
    "def max_num_list(arr):\n",
    "    '''\n",
    "    find the maximum number in a list\n",
    "    '''\n",
    "    if len(arr) == 2:\n",
    "        return arr[0] if arr[0] > arr[1] else arr[1]\n",
    "    elif len(arr) == 1:\n",
    "        return arr[0]\n",
    "    elif arr == []:\n",
    "        return None\n",
    "    sub_max = max_num_list(arr[1:])\n",
    "    return arr[0] if arr[0] > sub_max else sub_max"
   ]
  },
  {
   "cell_type": "code",
   "execution_count": 8,
   "metadata": {},
   "outputs": [],
   "source": [
    "max_num_list([])"
   ]
  },
  {
   "cell_type": "code",
   "execution_count": 13,
   "metadata": {},
   "outputs": [
    {
     "name": "stdout",
     "output_type": "stream",
     "text": [
      "3\n"
     ]
    }
   ],
   "source": [
    "def recursive_binary_search(arr, low, high, item):\n",
    "    '''\n",
    "    base case --> arr contains one item\n",
    "    recursive case --> call recursive function with updated high / low\n",
    "    '''\n",
    "    if len(arr) == 1:\n",
    "        return arr[0]\n",
    "    \n",
    "    if high >= low:\n",
    "        mid = (high + low) // 2\n",
    "        if arr[mid] == item:\n",
    "            return mid\n",
    "        elif arr[mid] > item:\n",
    "            return recursive_binary_search(arr, low, mid-1, item)\n",
    "        else:\n",
    "            return recursive_binary_search(arr, mid+1, high, item)\n",
    "    else:\n",
    "        return -1\n",
    " \n",
    "arr = [2, 3, 4, 10, 40]\n",
    "item = 10\n",
    "index = recursive_binary_search(arr, 0, len(arr)-1, item)\n",
    "print(index)"
   ]
  },
  {
   "cell_type": "code",
   "execution_count": 20,
   "metadata": {},
   "outputs": [],
   "source": [
    "def quicksort(array):\n",
    "    if len(array) < 2:\n",
    "        return array # base case\n",
    "    else:\n",
    "        pivot = array[0] # recursive case\n",
    "        less = [i for i in array[1:] if i <= pivot] # sub-array of all elements less than the pivot\n",
    "        greater = [i for i in array[1:] if i > pivot] # sub-array of all elements greater than the pivot\n",
    "        return quicksort(less) + [pivot] + quicksort(greater)"
   ]
  },
  {
   "cell_type": "code",
   "execution_count": 22,
   "metadata": {},
   "outputs": [
    {
     "name": "stdout",
     "output_type": "stream",
     "text": [
      "5.63 µs ± 208 ns per loop (mean ± std. dev. of 7 runs, 100000 loops each)\n"
     ]
    }
   ],
   "source": [
    "%timeit quicksort([10, 5, 2, 17, 4])"
   ]
  },
  {
   "cell_type": "code",
   "execution_count": null,
   "metadata": {},
   "outputs": [],
   "source": []
  }
 ],
 "metadata": {
  "kernelspec": {
   "display_name": "Python 3",
   "language": "python",
   "name": "python3"
  },
  "language_info": {
   "codemirror_mode": {
    "name": "ipython",
    "version": 3
   },
   "file_extension": ".py",
   "mimetype": "text/x-python",
   "name": "python",
   "nbconvert_exporter": "python",
   "pygments_lexer": "ipython3",
   "version": "3.7.4"
  }
 },
 "nbformat": 4,
 "nbformat_minor": 2
}
