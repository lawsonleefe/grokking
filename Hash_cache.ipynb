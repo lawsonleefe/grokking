{
 "cells": [
  {
   "cell_type": "markdown",
   "metadata": {},
   "source": [
    "# Hash Tables / Dictionaries\n",
    "\n",
    "Hash tables run in constant time --> O(1) which is the fastest possible runtime.\n",
    "Alternative to this would be running a sorting algorithm over a list of names which would be between O(n) and O(log n) speed.\n",
    "\n",
    "Hash tables are particularly good for: \n",
    "\n",
    "    • Filtering out duplicates\n",
    "    • Modelling relationships between items as key:value pairs\n",
    "    • Storing data to easily retrieve it later (cache)"
   ]
  },
  {
   "cell_type": "code",
   "execution_count": 1,
   "metadata": {},
   "outputs": [],
   "source": [
    "voted  = {}\n",
    "def check_voter(name):\n",
    "    '''\n",
    "    checks to see if name is already present in dictionary\n",
    "    if it is, person has already voted\n",
    "    if not, create entry in dictionary and set to True\n",
    "    running again for a second time will now result in the name not being allowed to vote\n",
    "    '''\n",
    "    if voted.get(name):\n",
    "        print(\"kick them out!\")\n",
    "    else:\n",
    "        voted[name] = True\n",
    "        print(\"let them vote\")"
   ]
  },
  {
   "cell_type": "code",
   "execution_count": 2,
   "metadata": {},
   "outputs": [
    {
     "name": "stdout",
     "output_type": "stream",
     "text": [
      "let them vote\n"
     ]
    }
   ],
   "source": [
    "check_voter('Tom')"
   ]
  },
  {
   "cell_type": "code",
   "execution_count": 4,
   "metadata": {},
   "outputs": [
    {
     "name": "stdout",
     "output_type": "stream",
     "text": [
      "kick them out!\n"
     ]
    }
   ],
   "source": [
    "check_voter('Tom')"
   ]
  },
  {
   "cell_type": "code",
   "execution_count": 5,
   "metadata": {},
   "outputs": [],
   "source": [
    "cache = {}\n",
    "\n",
    "def get_page(url):\n",
    "    '''\n",
    "    Cache can be used to speed up load times of url's which have static content\n",
    "    Here, if the page has been requested before, we'll check the cache dictionary and return data associated with this url\n",
    "    Otherwise, we'll fetch the data with some function \"get_data_from_server\" and add it to the cache for next time\n",
    "    '''\n",
    "    if cache.get(url):\n",
    "        return cache[url]\n",
    "    else:\n",
    "        data = get_data_from_server(url)\n",
    "        cache[url] = data\n",
    "        return data"
   ]
  },
  {
   "cell_type": "markdown",
   "metadata": {},
   "source": [
    "### Load Factor\n",
    "As hash tables use an array for storage, we need to avoid instances where array gets completely full.\n",
    "When this happens, we have a collision and will start overwriting data as there are no spare slots in memory to allocate new data to.\n",
    "To get around this, we could start a linked list at each slot in memory but this will cause item retrieval time to reduce from O(1), constant time to O(n), linear time.\n",
    "\n",
    "We can see how full our hash table array is by calculting the 'load factor' as follows:\n",
    "\n",
    "    • No. of items in hash table / total number of slots\n",
    "\n",
    "Suppose we had the following array with 1 out of 3 slots filled:\n",
    "\n",
    "    [ , 15, ]\n",
    "    \n",
    "Here, our load factor is 0.333...\n",
    "\n",
    "When arrays approach a certain size, we need to increase the size of the array to ensure new items will continue to fit in without collisions. This is called 'resizing' and involves re-inserting all existing values into a new, larger array.\n",
    "\n",
    "A good rule of thumb is to resize when the load factor reached 0.7\n",
    "\n",
    "As for a hash-function that implements this and distributes items evenly rather than clumping them together, resulting in collisions, it's not something we'll really have to worry about as all languages have built in functions for this already. However, something like SHA could be used."
   ]
  }
 ],
 "metadata": {
  "kernelspec": {
   "display_name": "Python 3",
   "language": "python",
   "name": "python3"
  },
  "language_info": {
   "codemirror_mode": {
    "name": "ipython",
    "version": 3
   },
   "file_extension": ".py",
   "mimetype": "text/x-python",
   "name": "python",
   "nbconvert_exporter": "python",
   "pygments_lexer": "ipython3",
   "version": "3.7.4"
  }
 },
 "nbformat": 4,
 "nbformat_minor": 2
}
