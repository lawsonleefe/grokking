{
 "cells": [
  {
   "cell_type": "markdown",
   "metadata": {},
   "source": [
    "# Breadth-first search\n",
    "\n",
    "This implements graphs in order to work out whether:\n",
    "\n",
    "    a) There is a valid route from one point to another\n",
    "    b) The fastest possible route there.\n",
    "    \n",
    "We make use of queues which are a 'FIFO' (first in, first out) data structure as opposed to stacks which are 'LIFO' (last in, first out).\n",
    "\n",
    "A graph consists of multiple nodes which in turn can have additional nodes extending from them. Think of this like first and second degree connections on LinkedIn. We can reach all of our first degree connections in one step. Second degree connections require us to pass through a first connection node requiring two steps as opposed to one.\n",
    "\n",
    "We can model them with hash-tables as follows"
   ]
  },
  {
   "cell_type": "code",
   "execution_count": 1,
   "metadata": {},
   "outputs": [],
   "source": [
    "graph = {}\n",
    "graph[\"Lawson\"] = [\"Jules\", \"Stevie\", \"Horatio\", \"Mohammed\"]\n",
    "graph[\"Jules\"] = []\n",
    "graph[\"Stevie\"] = [\"Roberta\", \"Pinkums\"]\n",
    "graph[\"Horatio\"] = [\"Jenny\"]\n",
    "graph[\"Mohammed\"] = []\n",
    "graph[\"Roberta\"] = []\n",
    "graph[\"Pinkums\"] = [\"Brain\"]\n",
    "graph[\"Jenny\"] = []\n",
    "graph[\"Brain\"] = []"
   ]
  },
  {
   "cell_type": "code",
   "execution_count": 11,
   "metadata": {},
   "outputs": [],
   "source": [
    "from collections import deque\n",
    "\n",
    "def find_the_mango_seller(graph):\n",
    "    '''\n",
    "    Start a FIFO queue with the 'deque' function\n",
    "    Add to this the graph for Lawson\n",
    "    Also want to create an empty list which we'll add names we've already checked to. \n",
    "        This is an important step and ensures we don't check the same name twice\n",
    "        We also avoid a potential infinite loop in which a list contains references to the previous node\n",
    "        and so goes back and forth forever\n",
    "    Use popleft to get first entry in the search_queue. If they're not one we've seen, check if they're a seller\n",
    "    If not, add their connections to the search_queue and mark this person as done and loop again.\n",
    "    We stop once the search_queue is done\n",
    "    '''\n",
    "    search_queue = deque()\n",
    "    search_queue += graph[\"Lawson\"]\n",
    "    searched = []\n",
    "    while search_queue:\n",
    "        print(search_queue)\n",
    "        person = search_queue.popleft()\n",
    "        if not person in searched:\n",
    "            if person_is_seller(person):\n",
    "                print((f'{person} is a mango seller!'))\n",
    "                return True\n",
    "            else:\n",
    "                search_queue += graph[person]\n",
    "                searched.append(person)\n",
    "\n",
    "def person_is_seller(name):\n",
    "    return name[-1] == \"n\"\n"
   ]
  },
  {
   "cell_type": "code",
   "execution_count": 12,
   "metadata": {},
   "outputs": [
    {
     "name": "stdout",
     "output_type": "stream",
     "text": [
      "deque(['Jules', 'Stevie', 'Horatio', 'Mohammed'])\n",
      "deque(['Stevie', 'Horatio', 'Mohammed'])\n",
      "deque(['Horatio', 'Mohammed', 'Roberta', 'Pinkums'])\n",
      "deque(['Mohammed', 'Roberta', 'Pinkums', 'Jenny'])\n",
      "deque(['Roberta', 'Pinkums', 'Jenny'])\n",
      "deque(['Pinkums', 'Jenny'])\n",
      "deque(['Jenny', 'Brain'])\n",
      "deque(['Brain'])\n",
      "Brain is a mango seller!\n"
     ]
    },
    {
     "data": {
      "text/plain": [
       "True"
      ]
     },
     "execution_count": 12,
     "metadata": {},
     "output_type": "execute_result"
    }
   ],
   "source": [
    "find_the_mango_seller(graph)"
   ]
  },
  {
   "cell_type": "markdown",
   "metadata": {},
   "source": [
    "### Further notes\n",
    "\n",
    "The runtime of breadth-first is O(number of people + number of edges) where an edge is the connection from one person to another.\n",
    "This is commonly written as O(V+E) ----> V as no. of vertices and E as no. of edges.\n",
    "\n",
    "If one item depends upon another (i.e, to get to it, we have to pass through another node first), we have a 'topological sort'.\n",
    "\n",
    "### Trees\n",
    "\n",
    "Trees are a special kind of graph which only has one direction. A family 'tree' is a good example of this ---> you can't be your Dad's Dad for example"
   ]
  },
  {
   "cell_type": "code",
   "execution_count": null,
   "metadata": {},
   "outputs": [],
   "source": []
  }
 ],
 "metadata": {
  "kernelspec": {
   "display_name": "Python 3",
   "language": "python",
   "name": "python3"
  },
  "language_info": {
   "codemirror_mode": {
    "name": "ipython",
    "version": 3
   },
   "file_extension": ".py",
   "mimetype": "text/x-python",
   "name": "python",
   "nbconvert_exporter": "python",
   "pygments_lexer": "ipython3",
   "version": "3.7.4"
  }
 },
 "nbformat": 4,
 "nbformat_minor": 2
}
