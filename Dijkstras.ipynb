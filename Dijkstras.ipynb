{
 "cells": [
  {
   "cell_type": "markdown",
   "metadata": {},
   "source": [
    "# Dijkstra's Algorithm\n",
    "\n",
    "This works for 'weighted graphs' where there is a cost element associated with taking a certain path. Whereas breath-first will find the fewest moves through the nodes, it won't necessarily find the optimal path. Think of a gridlocked motorway vs a diversion via 3 separate roads,\n",
    "\n",
    "We first start with a graph showing how things are connected and a cost table which keeps track of the least expensive way to get to a given node. We also have a parent table which maps the route we should take based on costs. Both the parent and cost tables are updated as we move through the algorithm.\n",
    "\n",
    "Note: This will fail if we have any negative costs. For example, if these costs mapped money rather than time, a negative value could represent a refund on something."
   ]
  },
  {
   "cell_type": "code",
   "execution_count": 8,
   "metadata": {},
   "outputs": [],
   "source": [
    "#Graph\n",
    "\n",
    "graph = {}\n",
    "graph['start'] = {}\n",
    "graph['start']['a'] = 6\n",
    "graph['start']['b'] = 2\n",
    "\n",
    "graph['a'] = {}\n",
    "graph['a']['fin'] = 1\n",
    "\n",
    "graph['b'] = {}\n",
    "graph['b']['a'] = 3\n",
    "graph['b']['fin'] = 5\n",
    "\n",
    "graph['fin'] = {}\n"
   ]
  },
  {
   "cell_type": "code",
   "execution_count": 18,
   "metadata": {},
   "outputs": [],
   "source": [
    "# Cost table\n",
    "\n",
    "infinity = float('inf')\n",
    "costs = {}\n",
    "costs['a'] = 6\n",
    "costs['b'] = 2\n",
    "costs['fin'] = infinity"
   ]
  },
  {
   "cell_type": "code",
   "execution_count": 19,
   "metadata": {},
   "outputs": [],
   "source": [
    "# Parents table\n",
    "\n",
    "parents = {}\n",
    "parents['a'] = 'start'\n",
    "parents['b'] = 'start'\n",
    "parents['fin'] = None\n"
   ]
  },
  {
   "cell_type": "code",
   "execution_count": 20,
   "metadata": {},
   "outputs": [],
   "source": [
    "# Keep track of elements already processed here\n",
    "processed = []"
   ]
  },
  {
   "cell_type": "code",
   "execution_count": 21,
   "metadata": {},
   "outputs": [],
   "source": [
    "def dijkstra(graph, costs, parents):\n",
    "    '''\n",
    "    1. While we have nodes to process\n",
    "    2. Grab the node closest to the start\n",
    "    3. Update costs for any neighbours of this node\n",
    "    4. If any neighbours cosrs were updated, update parent too\n",
    "    5. Mark this node as processed and repeat.\n",
    "    '''\n",
    "    node = find_lowest_cost_node(costs)\n",
    "    while node is not None:\n",
    "        cost = costs[node]\n",
    "        neighbours = graph[node]\n",
    "        for n in neighbours.keys():\n",
    "            new_cost = cost + neighbours[n]\n",
    "            if costs[n] > new_cost:\n",
    "                costs[n] = new_cost\n",
    "                parents[n] = node\n",
    "        processed.append(node)\n",
    "        node = find_lowest_cost_node(costs)\n",
    "    return(parents, costs)\n",
    "\n",
    "def find_lowest_cost_node(costs):\n",
    "    lowest_cost = float('inf')\n",
    "    lowest_cost_node = None\n",
    "    for node in costs:\n",
    "        cost = costs[node]\n",
    "        if cost < lowest_cost and node not in processed:\n",
    "            lowest_cost = cost\n",
    "            lowest_cost_node = node\n",
    "    return lowest_cost_node"
   ]
  },
  {
   "cell_type": "code",
   "execution_count": 22,
   "metadata": {},
   "outputs": [
    {
     "data": {
      "text/plain": [
       "({'a': 'b', 'b': 'start', 'fin': 'a'}, {'a': 5, 'b': 2, 'fin': 6})"
      ]
     },
     "execution_count": 22,
     "metadata": {},
     "output_type": "execute_result"
    }
   ],
   "source": [
    "dijkstra(graph, costs, parents)"
   ]
  },
  {
   "cell_type": "code",
   "execution_count": null,
   "metadata": {},
   "outputs": [],
   "source": []
  }
 ],
 "metadata": {
  "kernelspec": {
   "display_name": "Python 3",
   "language": "python",
   "name": "python3"
  },
  "language_info": {
   "codemirror_mode": {
    "name": "ipython",
    "version": 3
   },
   "file_extension": ".py",
   "mimetype": "text/x-python",
   "name": "python",
   "nbconvert_exporter": "python",
   "pygments_lexer": "ipython3",
   "version": "3.7.4"
  }
 },
 "nbformat": 4,
 "nbformat_minor": 2
}
